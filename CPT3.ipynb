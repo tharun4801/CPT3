{
 "cells": [
  {
   "cell_type": "code",
   "execution_count": 1,
   "id": "5737f53f-f40a-447e-a1ea-8f57a14bb545",
   "metadata": {},
   "outputs": [
    {
     "name": "stdout",
     "output_type": "stream",
     "text": [
      "hello\n"
     ]
    }
   ],
   "source": [
    "print(\"hello\")"
   ]
  },
  {
   "cell_type": "code",
   "execution_count": 3,
   "id": "aecf79c6-9497-432a-9e12-3007404c23e3",
   "metadata": {},
   "outputs": [
    {
     "name": "stdin",
     "output_type": "stream",
     "text": [
      "Enter your Age : 50\n"
     ]
    },
    {
     "name": "stdout",
     "output_type": "stream",
     "text": [
      "You're Eligible to vote\n"
     ]
    }
   ],
   "source": [
    "# code for if conditionS\n",
    "age=int(input(\"Enter your Age :\"))\n",
    "if age>=18:\n",
    "    print(\"You're Eligible to vote\")\n",
    "else:\n",
    "    print(\"You're Eligible to vote\")"
   ]
  },
  {
   "cell_type": "code",
   "execution_count": 15,
   "id": "813aa22b-de36-40a7-a103-9c5539605de3",
   "metadata": {},
   "outputs": [
    {
     "name": "stdin",
     "output_type": "stream",
     "text": [
      "press any key: @\n"
     ]
    },
    {
     "name": "stdout",
     "output_type": "stream",
     "text": [
      "@ not valid\n"
     ]
    }
   ],
   "source": [
    "char=input(\"press any key:\")\n",
    "if char.isalpha():\n",
    "    print(char,\"is a character\")\n",
    "if char.isdigit():\n",
    "    print(char,\"is a digit\")\n",
    "if char.isspace():\n",
    "    print(char,\"is a space\")\n",
    "else:\n",
    "    print(char,\"not valid\")"
   ]
  },
  {
   "cell_type": "code",
   "execution_count": 21,
   "id": "2ecb6b83-1d19-4698-a846-38cbac077f95",
   "metadata": {},
   "outputs": [
    {
     "name": "stdin",
     "output_type": "stream",
     "text": [
      "enter a number 0\n"
     ]
    },
    {
     "name": "stdout",
     "output_type": "stream",
     "text": [
      "0 is a zero\n"
     ]
    }
   ],
   "source": [
    "num=int(input(\"enter a number\"))\n",
    "if num>0:\n",
    "    print(num,\"is a positive\")\n",
    "if num<0:\n",
    "    print(num,\"is negative\")\n",
    "if num==0:\n",
    "    print(num,\"is a zero\")"
   ]
  },
  {
   "cell_type": "code",
   "execution_count": 25,
   "id": "7238cf24-e3cb-4ab0-ae48-30ce6dbea6c7",
   "metadata": {},
   "outputs": [
    {
     "name": "stdin",
     "output_type": "stream",
     "text": [
      "enter a number 9\n"
     ]
    },
    {
     "name": "stdout",
     "output_type": "stream",
     "text": [
      "9 odd number\n"
     ]
    }
   ],
   "source": [
    "num=int(input(\"enter a number\"))\n",
    "if num%2==0:\n",
    "    print(num,\"even number\")\n",
    "else:\n",
    "    print(num,\"odd number\")"
   ]
  },
  {
   "cell_type": "code",
   "execution_count": 37,
   "id": "cb6a5495-f306-4c2a-a9bd-21ab8ea87ed7",
   "metadata": {},
   "outputs": [
    {
     "name": "stdin",
     "output_type": "stream",
     "text": [
      "Enter a key SAM\n"
     ]
    },
    {
     "name": "stdout",
     "output_type": "stream",
     "text": [
      "sam LOWER CASE\n"
     ]
    }
   ],
   "source": [
    "s=input(\"Enter a key\")\n",
    "if s.islower():\n",
    "    a=s.upper()\n",
    "    print(a,\"UPPER CASE\")\n",
    "if s.isupper():\n",
    "    b=s.lower()\n",
    "    print(b,\"LOWER CASE\")\n",
    "\n",
    "    "
   ]
  },
  {
   "cell_type": "code",
   "execution_count": 41,
   "id": "0cee7277-d7c2-4c15-a524-8fe3c2f1eeb8",
   "metadata": {},
   "outputs": [
    {
     "name": "stdin",
     "output_type": "stream",
     "text": [
      "enter a char from ato z ASFG\n"
     ]
    },
    {
     "name": "stdout",
     "output_type": "stream",
     "text": [
      "the entered character was in uppercase....lower:asfg\n"
     ]
    }
   ],
   "source": [
    "ch=input(\"enter a char from ato z\")\n",
    "if ch>='A' and ch<='Z':\n",
    "    ch=ch.lower()\n",
    "    print(\"the entered character was in uppercase....lower:\"+ch)\n",
    "else:\n",
    "    ch=ch.upper()\n",
    "    print(\"the entered character was in lowercase....upper:\"+ch)"
   ]
  },
  {
   "cell_type": "code",
   "execution_count": 53,
   "id": "162268ed-b999-45fa-85c6-98147497a6ab",
   "metadata": {},
   "outputs": [
    {
     "name": "stdin",
     "output_type": "stream",
     "text": [
      "enter the number: 90\n"
     ]
    },
    {
     "name": "stdout",
     "output_type": "stream",
     "text": [
      "90 out of range\n"
     ]
    }
   ],
   "source": [
    "#code for checking for interval of a given number\n",
    "num=int(input(\"enter the number:\"))\n",
    "if num>=0 and num<=10:\n",
    "    print(num,\"number is in 0-10 range\")\n",
    "elif num>=11 and num<=20:\n",
    "     print(num,\"number is in 11-20 range\")\n",
    "elif num>=21 and num<=30:\n",
    "     print(num,\"number is in 21-30 range\")\n",
    "else:\n",
    "    print(num,\"out of range\")"
   ]
  },
  {
   "cell_type": "code",
   "execution_count": 82,
   "id": "46c9811d-60f5-4e64-9bf2-4044f75828a1",
   "metadata": {},
   "outputs": [
    {
     "name": "stdin",
     "output_type": "stream",
     "text": [
      "enter a number 3\n"
     ]
    },
    {
     "name": "stdout",
     "output_type": "stream",
     "text": [
      "3 is a positive\n"
     ]
    }
   ],
   "source": [
    "num=int(input(\"enter a number\"))\n",
    "if num>0:\n",
    "    print(num,\"is a positive\")\n",
    "elif num<0:\n",
    "    print(num,\"is negative\")\n",
    "else:\n",
    "    print(num,\"is a zero\")"
   ]
  },
  {
   "cell_type": "code",
   "execution_count": 94,
   "id": "1c441a7e-a256-4c52-a643-45463594b65f",
   "metadata": {},
   "outputs": [
    {
     "name": "stdin",
     "output_type": "stream",
     "text": [
      "enter the value of n 100\n"
     ]
    },
    {
     "name": "stdout",
     "output_type": "stream",
     "text": [
      "0 1 2 3 4 5 6 7 8 9 10 11 12 13 14 15 16 17 18 19 20 21 22 23 24 25 26 27 28 29 30 31 32 33 34 35 36 37 38 39 40 41 42 43 44 45 46 47 48 49 50 51 52 53 54 55 56 57 58 59 60 61 62 63 64 65 66 67 68 69 70 71 72 73 74 75 76 77 78 79 80 81 82 83 84 85 86 87 88 89 90 91 92 93 94 95 96 97 98 99 100 "
     ]
    }
   ],
   "source": [
    "# printing the whole number till n\n",
    "n=int(input(\"enter the value of n\"))\n",
    "loop=0\n",
    "while loop<=n:\n",
    "    print(loop,end=' ')\n",
    "    loop+=1"
   ]
  },
  {
   "cell_type": "code",
   "execution_count": null,
   "id": "0db29f05-fc43-4bbd-8be2-b096b1b8f620",
   "metadata": {},
   "outputs": [],
   "source": []
  }
 ],
 "metadata": {
  "kernelspec": {
   "display_name": "Python 3 (ipykernel)",
   "language": "python",
   "name": "python3"
  },
  "language_info": {
   "codemirror_mode": {
    "name": "ipython",
    "version": 3
   },
   "file_extension": ".py",
   "mimetype": "text/x-python",
   "name": "python",
   "nbconvert_exporter": "python",
   "pygments_lexer": "ipython3",
   "version": "3.12.7"
  }
 },
 "nbformat": 4,
 "nbformat_minor": 5
}
